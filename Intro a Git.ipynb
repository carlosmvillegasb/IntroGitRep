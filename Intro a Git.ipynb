{
 "metadata": {
  "language": "Julia",
  "name": "",
  "signature": "sha256:ce652c53aaa1b79216f1273431b828ce79e9fb1cfa37f39fcdbab5b5c2a9767b"
 },
 "nbformat": 3,
 "nbformat_minor": 0,
 "worksheets": [
  {
   "cells": [
    {
     "cell_type": "heading",
     "level": 1,
     "metadata": {},
     "source": [
      "\u00bfQu\u00e9 es Git?"
     ]
    },
    {
     "cell_type": "markdown",
     "metadata": {},
     "source": [
      ";ls"
     ]
    },
    {
     "cell_type": "code",
     "collapsed": false,
     "input": [
      ";ls"
     ],
     "language": "python",
     "metadata": {},
     "outputs": [
      {
       "output_type": "stream",
       "stream": "stdout",
       "text": [
        "11Septiembre.ipynb\n",
        "Animacion.ipynb\n",
        "CalculoSimbolico.ipynb\n",
        "ClasesIntro.ipynb\n",
        "Descargas\n",
        "Documentos\n",
        "EDOs.ipynb\n",
        "Escritorio\n",
        "Im\u00e1genes\n",
        "Intro a Git.ipynb\n",
        "Metodo de Newton.ipynb\n",
        "M\u00fasica\n",
        "Plantillas\n",
        "P\u00fablico\n",
        "Sintaxis_ba\u0301sica_de_Julia.ipynb\n",
        "Tarea2CarlosMauricioVillegasBurgos309571504.ipynb\n",
        "Tarea3VillegasBurgosCarlosMauricio309571504.ipynb\n",
        "Tiro parabolico y raices.ipynb\n",
        "Untitled0.ipynb\n",
        "Untitled1.ipynb\n",
        "UsandoInteract.ipynb\n",
        "V\u00eddeos\n",
        "VillegasBurgos_CarlosMauricio_Tarea_3.ipynb\n",
        "VillegasBurgos_CarlosMauricio_Tarea_4.ipynb\n"
       ]
      }
     ],
     "prompt_number": 1
    },
    {
     "cell_type": "code",
     "collapsed": false,
     "input": [
      ";cd Git "
     ],
     "language": "python",
     "metadata": {},
     "outputs": [
      {
       "output_type": "stream",
       "stream": "stdout",
       "text": [
        "/home/est2/Git\n"
       ]
      }
     ],
     "prompt_number": 2
    },
    {
     "cell_type": "code",
     "collapsed": false,
     "input": [
      ";git config --global user.name \"Vs\""
     ],
     "language": "python",
     "metadata": {},
     "outputs": [],
     "prompt_number": 9
    },
    {
     "cell_type": "code",
     "collapsed": false,
     "input": [
      ";git init"
     ],
     "language": "python",
     "metadata": {},
     "outputs": [
      {
       "output_type": "stream",
       "stream": "stdout",
       "text": [
        "Initialized empty Git repository in /home/est2/Git/.git/\n"
       ]
      }
     ],
     "prompt_number": 5
    },
    {
     "cell_type": "code",
     "collapsed": false,
     "input": [
      ";git status"
     ],
     "language": "python",
     "metadata": {},
     "outputs": [
      {
       "output_type": "stream",
       "stream": "stdout",
       "text": [
        "On branch master\n",
        "\n",
        "Initial commit\n",
        "\n",
        "Untracked files:\n",
        "  (use \"git add <file>...\" to include in what will be committed)\n",
        "\n",
        "\tIntro a Git.ipynb\n",
        "\n",
        "nothing added to commit but untracked files present (use \"git add\" to track)\n"
       ]
      }
     ],
     "prompt_number": 1
    },
    {
     "cell_type": "code",
     "collapsed": false,
     "input": [
      ";touch clase_git.txt"
     ],
     "language": "python",
     "metadata": {},
     "outputs": [],
     "prompt_number": 2
    },
    {
     "cell_type": "code",
     "collapsed": false,
     "input": [
      ";ls"
     ],
     "language": "python",
     "metadata": {},
     "outputs": [
      {
       "output_type": "stream",
       "stream": "stdout",
       "text": [
        "clase_git.txt\n",
        "Intro a Git.ipynb\n"
       ]
      }
     ],
     "prompt_number": 3
    },
    {
     "cell_type": "code",
     "collapsed": false,
     "input": [
      ";git status"
     ],
     "language": "python",
     "metadata": {},
     "outputs": [
      {
       "output_type": "stream",
       "stream": "stdout",
       "text": [
        "On branch master\n",
        "\n",
        "Initial commit\n",
        "\n",
        "Untracked files:\n",
        "  (use \"git add <file>...\" to include in what will be committed)\n",
        "\n",
        "\tIntro a Git.ipynb\n",
        "\tclase_git.txt\n",
        "\n",
        "nothing added to commit but untracked files present (use \"git add\" to track)\n"
       ]
      }
     ],
     "prompt_number": 4
    },
    {
     "cell_type": "code",
     "collapsed": false,
     "input": [
      ";git add clase_git.txt"
     ],
     "language": "python",
     "metadata": {},
     "outputs": [],
     "prompt_number": 5
    },
    {
     "cell_type": "code",
     "collapsed": false,
     "input": [
      ";git status"
     ],
     "language": "python",
     "metadata": {},
     "outputs": [
      {
       "output_type": "stream",
       "stream": "stdout",
       "text": [
        "On branch master\n",
        "\n",
        "Initial commit\n",
        "\n",
        "Changes to be committed:\n",
        "  (use \"git rm --cached <file>...\" to unstage)\n",
        "\n",
        "\tnew file:   clase_git.txt\n",
        "\n",
        "Untracked files:\n",
        "  (use \"git add <file>...\" to include in what will be committed)\n",
        "\n",
        "\t.ipynb_checkpoints/\n",
        "\tIntro a Git.ipynb\n",
        "\n"
       ]
      }
     ],
     "prompt_number": 6
    },
    {
     "cell_type": "code",
     "collapsed": false,
     "input": [
      ";git commit -m \"Grabaci\u00f3n (commit) inicial: agregu\u00e9 un archivo\""
     ],
     "language": "python",
     "metadata": {},
     "outputs": [
      {
       "output_type": "stream",
       "stream": "stdout",
       "text": [
        "[master (root-commit) f8a6e25] Grabaci\u00f3n (commit) inicial: agregu\u00e9 un archivo\n",
        " Committer: Carlos Mauricio Villegas Burgos <est2@vl10h42.fciencias.unam.mx>\n",
        "Your name and email address were configured automatically based\n",
        "on your username and hostname. Please check that they are accurate.\n",
        "You can suppress this message by setting them explicitly:\n",
        "\n",
        "    git config --global user.name \"Your Name\"\n",
        "    git config --global user.email you@example.com\n",
        "\n",
        "After doing this, you may fix the identity used for this commit with:\n",
        "\n",
        "    git commit --amend --reset-author\n",
        "\n",
        " 1 file changed, 0 insertions(+), 0 deletions(-)\n",
        " create mode 100644 clase_git.txt\n"
       ]
      }
     ],
     "prompt_number": 7
    },
    {
     "cell_type": "code",
     "collapsed": false,
     "input": [
      ";git log"
     ],
     "language": "python",
     "metadata": {},
     "outputs": [
      {
       "output_type": "stream",
       "stream": "stdout",
       "text": [
        "commit f8a6e25ec49a8acab457bdd801c98a0358514fa3\n",
        "Author: Carlos Mauricio Villegas Burgos <est2@vl10h42.fciencias.unam.mx>\n",
        "Date:   Thu Sep 25 11:44:47 2014 -0500\n",
        "\n",
        "    Grabaci\u00f3n (commit) inicial: agregu\u00e9 un archivo\n"
       ]
      }
     ],
     "prompt_number": 8
    },
    {
     "cell_type": "code",
     "collapsed": false,
     "input": [
      ";touch clase_git2.txt"
     ],
     "language": "python",
     "metadata": {},
     "outputs": [],
     "prompt_number": 10
    },
    {
     "cell_type": "code",
     "collapsed": false,
     "input": [
      ";git add clase_git2.txt"
     ],
     "language": "python",
     "metadata": {},
     "outputs": [],
     "prompt_number": 11
    },
    {
     "cell_type": "code",
     "collapsed": false,
     "input": [
      ";git status"
     ],
     "language": "python",
     "metadata": {},
     "outputs": [
      {
       "output_type": "stream",
       "stream": "stdout",
       "text": [
        "On branch master\n",
        "Changes to be committed:\n",
        "  (use \"git reset HEAD <file>...\" to unstage)\n",
        "\n",
        "\tnew file:   clase_git2.txt\n",
        "\n",
        "Untracked files:\n",
        "  (use \"git add <file>...\" to include in what will be committed)\n",
        "\n",
        "\t.ipynb_checkpoints/\n",
        "\tIntro a Git.ipynb\n",
        "\n"
       ]
      }
     ],
     "prompt_number": 12
    },
    {
     "cell_type": "code",
     "collapsed": false,
     "input": [
      ";git commit -m \"Grabaci\u00f3n (commit) inicial: agregu\u00e9 un archivo\""
     ],
     "language": "python",
     "metadata": {},
     "outputs": [
      {
       "output_type": "stream",
       "stream": "stdout",
       "text": [
        "[master 8d910aa] Grabaci\u00f3n (commit) inicial: agregu\u00e9 un archivo\n",
        " Committer: Vs <est2@vl10h42.fciencias.unam.mx>\n",
        "Your name and email address were configured automatically based\n",
        "on your username and hostname. Please check that they are accurate.\n",
        "You can suppress this message by setting them explicitly:\n",
        "\n",
        "    git config --global user.name \"Your Name\"\n",
        "    git config --global user.email you@example.com\n",
        "\n",
        "After doing this, you may fix the identity used for this commit with:\n",
        "\n",
        "    git commit --amend --reset-author\n",
        "\n",
        " 1 file changed, 0 insertions(+), 0 deletions(-)\n",
        " create mode 100644 clase_git2.txt\n"
       ]
      }
     ],
     "prompt_number": 13
    },
    {
     "cell_type": "markdown",
     "metadata": {},
     "source": [
      "Modificamos clase_git.txt"
     ]
    },
    {
     "cell_type": "code",
     "collapsed": false,
     "input": [
      ";git status"
     ],
     "language": "python",
     "metadata": {},
     "outputs": [
      {
       "output_type": "stream",
       "stream": "stdout",
       "text": [
        "On branch master\n",
        "Changes not staged for commit:\n",
        "  (use \"git add <file>...\" to update what will be committed)\n",
        "  (use \"git checkout -- <file>...\" to discard changes in working directory)\n",
        "\n",
        "\tmodified:   clase_git.txt\n",
        "\n",
        "Untracked files:\n",
        "  (use \"git add <file>...\" to include in what will be committed)\n",
        "\n",
        "\t.ipynb_checkpoints/\n",
        "\tIntro a Git.ipynb\n",
        "\tclase_git.txt~\n",
        "\n",
        "no changes added to commit (use \"git add\" and/or \"git commit -a\")\n"
       ]
      }
     ],
     "prompt_number": 15
    },
    {
     "cell_type": "code",
     "collapsed": false,
     "input": [
      ";git add clase_git.txt"
     ],
     "language": "python",
     "metadata": {},
     "outputs": [],
     "prompt_number": 16
    },
    {
     "cell_type": "code",
     "collapsed": false,
     "input": [
      ";git add clase_git2.txt"
     ],
     "language": "python",
     "metadata": {},
     "outputs": [],
     "prompt_number": 17
    },
    {
     "cell_type": "code",
     "collapsed": false,
     "input": [
      ";git commit -m \"Grab\u00e9 2 archivos\""
     ],
     "language": "python",
     "metadata": {},
     "outputs": [
      {
       "output_type": "stream",
       "stream": "stdout",
       "text": [
        "[master 60c6741] Grab\u00e9 2 archivos\n",
        " Committer: Vs <est2@vl10h42.fciencias.unam.mx>\n",
        "Your name and email address were configured automatically based\n",
        "on your username and hostname. Please check that they are accurate.\n",
        "You can suppress this message by setting them explicitly:\n",
        "\n",
        "    git config --global user.name \"Your Name\"\n",
        "    git config --global user.email you@example.com\n",
        "\n",
        "After doing this, you may fix the identity used for this commit with:\n",
        "\n",
        "    git commit --amend --reset-author\n",
        "\n",
        " 1 file changed, 1 insertion(+)\n"
       ]
      }
     ],
     "prompt_number": 18
    },
    {
     "cell_type": "code",
     "collapsed": false,
     "input": [
      ";git status"
     ],
     "language": "python",
     "metadata": {},
     "outputs": [
      {
       "output_type": "stream",
       "stream": "stdout",
       "text": [
        "On branch master\n",
        "Changes not staged for commit:\n",
        "  (use \"git add <file>...\" to update what will be committed)\n",
        "  (use \"git checkout -- <file>...\" to discard changes in working directory)\n",
        "\n",
        "\tmodified:   clase_git2.txt\n",
        "\n",
        "Untracked files:\n",
        "  (use \"git add <file>...\" to include in what will be committed)\n",
        "\n",
        "\t.ipynb_checkpoints/\n",
        "\tIntro a Git.ipynb\n",
        "\tclase_git.txt~\n",
        "\tclase_git2.txt~\n",
        "\n",
        "no changes added to commit (use \"git add\" and/or \"git commit -a\")\n"
       ]
      }
     ],
     "prompt_number": 20
    },
    {
     "cell_type": "code",
     "collapsed": false,
     "input": [
      ";git log"
     ],
     "language": "python",
     "metadata": {},
     "outputs": [
      {
       "output_type": "stream",
       "stream": "stdout",
       "text": [
        "commit 60c674163f970c20d8b9c7cb90dcbbe550507df6\n",
        "Author: Vs <est2@vl10h42.fciencias.unam.mx>\n",
        "Date:   Thu Sep 25 11:57:52 2014 -0500\n",
        "\n",
        "    Grab\u00e9 2 archivos\n",
        "\n",
        "commit 8d910aa9dab533729bae8e523cebf8aaf79c08a1\n",
        "Author: Vs <est2@vl10h42.fciencias.unam.mx>\n",
        "Date:   Thu Sep 25 11:49:58 2014 -0500\n",
        "\n",
        "    Grabaci\u00f3n (commit) inicial: agregu\u00e9 un archivo\n",
        "\n",
        "commit f8a6e25ec49a8acab457bdd801c98a0358514fa3\n",
        "Author: Carlos Mauricio Villegas Burgos <est2@vl10h42.fciencias.unam.mx>\n",
        "Date:   Thu Sep 25 11:44:47 2014 -0500\n",
        "\n",
        "    Grabaci\u00f3n (commit) inicial: agregu\u00e9 un archivo\n"
       ]
      }
     ],
     "prompt_number": 21
    },
    {
     "cell_type": "markdown",
     "metadata": {},
     "source": [
      "Moodifiquemos otra vez"
     ]
    },
    {
     "cell_type": "code",
     "collapsed": false,
     "input": [
      ";git status"
     ],
     "language": "python",
     "metadata": {},
     "outputs": [
      {
       "output_type": "stream",
       "stream": "stdout",
       "text": [
        "On branch master\n",
        "Changes not staged for commit:\n",
        "  (use \"git add <file>...\" to update what will be committed)\n",
        "  (use \"git checkout -- <file>...\" to discard changes in working directory)\n",
        "\n",
        "\tmodified:   clase_git.txt\n",
        "\tmodified:   clase_git2.txt\n",
        "\n",
        "Untracked files:\n",
        "  (use \"git add <file>...\" to include in what will be committed)\n",
        "\n",
        "\t.ipynb_checkpoints/\n",
        "\tIntro a Git.ipynb\n",
        "\tclase_git.txt~\n",
        "\tclase_git2.txt~\n",
        "\n",
        "no changes added to commit (use \"git add\" and/or \"git commit -a\")\n"
       ]
      }
     ],
     "prompt_number": 22
    },
    {
     "cell_type": "code",
     "collapsed": false,
     "input": [
      ";cat clase_git.txt"
     ],
     "language": "python",
     "metadata": {},
     "outputs": [
      {
       "output_type": "stream",
       "stream": "stdout",
       "text": [
        "casa\n"
       ]
      }
     ],
     "prompt_number": 37
    },
    {
     "cell_type": "code",
     "collapsed": false,
     "input": [
      ";git add clase_git.txt"
     ],
     "language": "python",
     "metadata": {},
     "outputs": [],
     "prompt_number": 38
    },
    {
     "cell_type": "code",
     "collapsed": false,
     "input": [
      ";git add clase_git2.txt"
     ],
     "language": "python",
     "metadata": {},
     "outputs": [],
     "prompt_number": 44
    },
    {
     "cell_type": "code",
     "collapsed": false,
     "input": [
      ";git diff --staged"
     ],
     "language": "python",
     "metadata": {},
     "outputs": [
      {
       "output_type": "stream",
       "stream": "stdout",
       "text": [
        "diff --git a/clase_git2.txt b/clase_git2.txt\n",
        "index e69de29..c20a44a 100644\n",
        "--- a/clase_git2.txt\n",
        "+++ b/clase_git2.txt\n",
        "@@ -0,0 +1 @@\n",
        "+fa\n"
       ]
      }
     ],
     "prompt_number": 45
    },
    {
     "cell_type": "code",
     "collapsed": false,
     "input": [
      ";git commit -m \"M\u00e1s cambios\""
     ],
     "language": "python",
     "metadata": {},
     "outputs": [
      {
       "output_type": "stream",
       "stream": "stdout",
       "text": [
        "[detached HEAD c484658] M\u00e1s cambios\n",
        " Committer: Vs <est2@vl10h42.fciencias.unam.mx>\n",
        "Your name and email address were configured automatically based\n",
        "on your username and hostname. Please check that they are accurate.\n",
        "You can suppress this message by setting them explicitly:\n",
        "\n",
        "    git config --global user.name \"Your Name\"\n",
        "    git config --global user.email you@example.com\n",
        "\n",
        "After doing this, you may fix the identity used for this commit with:\n",
        "\n",
        "    git commit --amend --reset-author\n",
        "\n",
        " 1 file changed, 1 insertion(+)\n"
       ]
      }
     ],
     "prompt_number": 46
    },
    {
     "cell_type": "code",
     "collapsed": false,
     "input": [
      ";git log"
     ],
     "language": "python",
     "metadata": {},
     "outputs": [
      {
       "output_type": "stream",
       "stream": "stdout",
       "text": [
        "commit c4846585adabcbdbafa9b71034d41a02051c73df\n",
        "Author: Vs <est2@vl10h42.fciencias.unam.mx>\n",
        "Date:   Thu Sep 25 12:20:42 2014 -0500\n",
        "\n",
        "    M\u00e1s cambios\n",
        "\n",
        "commit 0492e0eadeeb4e69c9e5de5d2d5a0a582d3edfb7\n",
        "Author: Vs <est2@vl10h42.fciencias.unam.mx>\n",
        "Date:   Thu Sep 25 12:14:33 2014 -0500\n",
        "\n",
        "    M\u00e1s cambios\n"
       ]
      },
      {
       "output_type": "stream",
       "stream": "stdout",
       "text": [
        "\n",
        "commit 60c674163f970c20d8b9c7cb90dcbbe550507df6\n",
        "Author: Vs <est2@vl10h42.fciencias.unam.mx>\n",
        "Date:   Thu Sep 25 11:57:52 2014 -0500\n",
        "\n",
        "    Grab\u00e9 2 archivos\n",
        "\n",
        "commit 8d910aa9dab533729bae8e523cebf8aaf79c08a1\n",
        "Author: Vs <est2@vl10h42.fciencias.unam.mx>\n",
        "Date:   Thu Sep 25 11:49:58 2014 -0500\n",
        "\n",
        "    Grabaci\u00f3n (commit) inicial: agregu\u00e9 un archivo\n",
        "\n",
        "commit f8a6e25ec49a8acab457bdd801c98a0358514fa3\n",
        "Author: Carlos Mauricio Villegas Burgos <est2@vl10h42.fciencias.unam.mx>\n",
        "Date:   Thu Sep 25 11:44:47 2014 -0500\n",
        "\n",
        "    Grabaci\u00f3n (commit) inicial: agregu\u00e9 un archivo\n"
       ]
      }
     ],
     "prompt_number": 47
    },
    {
     "cell_type": "code",
     "collapsed": false,
     "input": [
      ";git diff c484658 f8a6e25e"
     ],
     "language": "python",
     "metadata": {},
     "outputs": [
      {
       "output_type": "stream",
       "stream": "stdout",
       "text": [
        "diff --git a/clase_git.txt b/clase_git.txt\n",
        "index c67fb1b..e69de29 100644\n",
        "--- a/clase_git.txt\n",
        "+++ b/clase_git.txt\n",
        "@@ -1 +0,0 @@\n",
        "-casa\n",
        "diff --git a/clase_git2.txt b/clase_git2.txt\n",
        "deleted file mode 100644\n",
        "index c20a44a..0000000\n",
        "--- a/clase_git2.txt\n",
        "+++ /dev/null\n",
        "@@ -1 +0,0 @@\n",
        "-fa\n"
       ]
      }
     ],
     "prompt_number": 48
    },
    {
     "cell_type": "code",
     "collapsed": false,
     "input": [
      ";git checkout f8a6e25e"
     ],
     "language": "python",
     "metadata": {},
     "outputs": [
      {
       "output_type": "stream",
       "stream": "stderr",
       "text": [
        "Warning: you are leaving 1 commit behind, not connected to\n",
        "any of your branches:\n",
        "\n",
        "  c484658 M\u00e1s cambios\n",
        "\n",
        "If you want to keep them by creating a new branch, this may be a good time\n",
        "to do so with:\n",
        "\n",
        " git branch new_branch_name c484658\n",
        "\n"
       ]
      },
      {
       "output_type": "stream",
       "stream": "stderr",
       "text": [
        "HEAD is now at f8a6e25... Grabaci\u00f3n (commit) inicial: agregu\u00e9 un archivo\n"
       ]
      }
     ],
     "prompt_number": 49
    },
    {
     "cell_type": "code",
     "collapsed": false,
     "input": [
      ";git checkout c4846585"
     ],
     "language": "python",
     "metadata": {},
     "outputs": [
      {
       "output_type": "stream",
       "stream": "stderr",
       "text": [
        "Previous HEAD position was f8a6e25... Grabaci\u00f3n (commit) inicial: agregu\u00e9 un archivo\n"
       ]
      },
      {
       "output_type": "stream",
       "stream": "stderr",
       "text": [
        "HEAD is now at c484658... M\u00e1s cambios\n"
       ]
      }
     ],
     "prompt_number": 50
    },
    {
     "cell_type": "code",
     "collapsed": false,
     "input": [
      ";cat clase_git.txt"
     ],
     "language": "python",
     "metadata": {},
     "outputs": [
      {
       "output_type": "stream",
       "stream": "stdout",
       "text": [
        "casa\n"
       ]
      }
     ],
     "prompt_number": 51
    },
    {
     "cell_type": "code",
     "collapsed": false,
     "input": [],
     "language": "python",
     "metadata": {},
     "outputs": []
    }
   ],
   "metadata": {}
  }
 ]
}